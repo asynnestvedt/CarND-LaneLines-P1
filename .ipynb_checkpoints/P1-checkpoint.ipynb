{
 "cells": [
  {
   "cell_type": "markdown",
   "metadata": {},
   "source": [
    "# **Finding Lane Lines on the Road** \n",
    "***\n",
    "In this project, you will use the tools you learned about in the lesson to identify lane lines on the road.  You can develop your pipeline on a series of individual images, and later apply the result to a video stream (really just a series of images). Check out the video clip \"raw-lines-example.mp4\" (also contained in this repository) to see what the output should look like after using the helper functions below. \n",
    "\n",
    "Once you have a result that looks roughly like \"raw-lines-example.mp4\", you'll need to get creative and try to average and/or extrapolate the line segments you've detected to map out the full extent of the lane lines.  You can see an example of the result you're going for in the video \"P1_example.mp4\".  Ultimately, you would like to draw just one line for the left side of the lane, and one for the right.\n",
    "\n",
    "---\n",
    "Let's have a look at our first image called 'test_images/solidWhiteRight.jpg'.  Run the 2 cells below (hit Shift-Enter or the \"play\" button above) to display the image.\n",
    "\n",
    "**Note** If, at any point, you encounter frozen display windows or other confounding issues, you can always start again with a clean slate by going to the \"Kernel\" menu above and selecting \"Restart & Clear Output\".\n",
    "\n",
    "---"
   ]
  },
  {
   "cell_type": "markdown",
   "metadata": {},
   "source": [
    "**The tools you have are color selection, region of interest selection, grayscaling, Gaussian smoothing, Canny Edge Detection and Hough Tranform line detection.  You  are also free to explore and try other techniques that were not presented in the lesson.  Your goal is piece together a pipeline to detect the line segments in the image, then average/extrapolate them and draw them onto the image for display (as below).  Once you have a working pipeline, try it out on the video stream below.**\n",
    "\n",
    "---\n",
    "\n",
    "<figure>\n",
    " <img src=\"line-segments-example.jpg\" width=\"380\" alt=\"Combined Image\" />\n",
    " <figcaption>\n",
    " <p></p> \n",
    " <p style=\"text-align: center;\"> Your output should look something like this (above) after detecting line segments using the helper functions below </p> \n",
    " </figcaption>\n",
    "</figure>\n",
    " <p></p> \n",
    "<figure>\n",
    " <img src=\"laneLines_thirdPass.jpg\" width=\"380\" alt=\"Combined Image\" />\n",
    " <figcaption>\n",
    " <p></p> \n",
    " <p style=\"text-align: center;\"> Your goal is to connect/average/extrapolate line segments to get output like this</p> \n",
    " </figcaption>\n",
    "</figure>"
   ]
  },
  {
   "cell_type": "code",
   "execution_count": null,
   "metadata": {
    "collapsed": false
   },
   "outputs": [],
   "source": [
    "#importing some useful packages\n",
    "import matplotlib.pyplot as plt\n",
    "import matplotlib.image as mpimg\n",
    "import numpy as np\n",
    "import cv2\n",
    "%matplotlib inline"
   ]
  },
  {
   "cell_type": "code",
   "execution_count": null,
   "metadata": {
    "collapsed": false
   },
   "outputs": [],
   "source": [
    "#reading in an image\n",
    "image = mpimg.imread('test_images/solidWhiteRight.jpg')\n",
    "#printing out some stats and plotting\n",
    "print('This image is:', type(image), 'with dimesions:', image.shape)\n",
    "plt.imshow(image)  #call as plt.imshow(gray, cmap='gray') to show a grayscaled image"
   ]
  },
  {
   "cell_type": "markdown",
   "metadata": {},
   "source": [
    "**Some OpenCV functions (beyond those introduced in the lesson) that might be useful for this project are:**\n",
    "\n",
    "`cv2.inRange()` for color selection  \n",
    "`cv2.fillPoly()` for regions selection  \n",
    "`cv2.line()` to draw lines on an image given endpoints  \n",
    "`cv2.addWeighted()` to coadd / overlay two images\n",
    "`cv2.cvtColor()` to grayscale or change color\n",
    "`cv2.imwrite()` to output images to file  \n",
    "`cv2.bitwise_and()` to apply a mask to an image\n",
    "\n",
    "**Check out the OpenCV documentation to learn about these and discover even more awesome functionality!**"
   ]
  },
  {
   "cell_type": "markdown",
   "metadata": {},
   "source": [
    "Below are some helper functions to help get you started. They should look familiar from the lesson!"
   ]
  },
  {
   "cell_type": "code",
   "execution_count": null,
   "metadata": {
    "collapsed": false
   },
   "outputs": [],
   "source": [
    "import math\n",
    "from IPython.display import display\n",
    "from IPython.core.debugger import Tracer\n",
    "\n",
    "###### HELPERS #############################################\n",
    "######\n",
    "def drawImgFromArray(image, isgray):\n",
    "    plt.figure()\n",
    "    if isgray:\n",
    "        plt.imshow(image, cmap='gray')\n",
    "    else:\n",
    "        plt.imshow(image)\n",
    "\n",
    "def drawHist(hist, bins):\n",
    "    width = 0.7 * (bins[1] - bins[0])\n",
    "    center = (bins[:-1] + bins[1:]) / 2\n",
    "    plt.figure()\n",
    "    plt.bar(center, hist, align='center', width=width)\n",
    "    plt.show()\n",
    "    \n",
    "def smallline(line, length=6):\n",
    "    return abs(line[0] - line[2]) < length and abs(line[1] - line[3]) < length\n",
    "\n",
    "def reject_outliers(data, m=2):\n",
    "    return data[abs(data - np.mean(data)) < m * np.std(data)]\n",
    "\n",
    "def within_acceptance(anum, amean, astd, m=2):\n",
    "    return abs(anum - amean) < m * astd\n",
    "\n",
    "def within_bin(anum,amin,amax):\n",
    "    return anum >= amin and anum <= amax\n",
    "\n",
    "def pointsInLines(lines):\n",
    "    xs=[]\n",
    "    ys=[]\n",
    "    for line in lines:\n",
    "        xs.append(line[0][0])\n",
    "        xs.append(line[0][2])\n",
    "        ys.append(line[0][1])\n",
    "        ys.append(line[0][3])\n",
    "        \n",
    "    return {'x':xs, 'y':ys}\n",
    "\n",
    "###### FILTERS #############################################\n",
    "######\n",
    "def filter_by_bin_and_deviation (lines, slopes, intercepts, minm, maxm, minb, maxb):\n",
    "    std_slopes = np.std(slopes)\n",
    "    std_intercepts = np.std(intercepts)\n",
    "    mean_slope = np.mean(slopes)\n",
    "    mean_intercept = np.mean(intercepts)\n",
    "\n",
    "    cmpdata = {\n",
    "        'prior': {\n",
    "            'std_slopes': std_slopes,\n",
    "            'std_intercepts': std_intercepts,\n",
    "            'linecount': len(lines),\n",
    "            'mean_slopes': mean_slope,\n",
    "            'mean_intercepts': mean_intercept\n",
    "        }\n",
    "    }\n",
    "\n",
    "    newlines = []\n",
    "    newslopes = []\n",
    "    newyinter = []\n",
    "    for i, ln in enumerate(lines):\n",
    "#       if within_acceptance(slopes[i], mean_slope, std_slopes, 1)\n",
    "        if within_bin(slopes[i], minm, maxm) and within_acceptance(intercepts[i], mean_intercept, std_intercepts, 1):\n",
    "            newlines.append(lines[i])\n",
    "            newslopes.append(slopes[i])\n",
    "            newyinter.append(intercepts[i])\n",
    "\n",
    "    cmpdata['post'] = {\n",
    "        'std_slopes': std_slopes,\n",
    "        'std_intercepts': std_intercepts,\n",
    "        'linecount': len(newlines),\n",
    "        'mean_slopes': np.mean(newslopes),\n",
    "        'mean_intercepts': np.mean(newyinter)\n",
    "    }\n",
    "\n",
    "    return newlines, newslopes, newyinter, cmpdata\n",
    "\n",
    "\n",
    "def filter_by_binning (lines, slopes, intercepts, minm, maxm, minb, maxb):\n",
    "    std_slopes = np.std(slopes)\n",
    "    std_intercepts = np.std(intercepts)\n",
    "\n",
    "    cmpdata = {\n",
    "        'filter': {\n",
    "            'bin_slopes_min': minm,\n",
    "            'bin_slopes_max': maxm,\n",
    "            'bin_intercepts_min': minb,\n",
    "            'bin_intercepts_max': maxb\n",
    "        },\n",
    "        'prior': {\n",
    "            'std_slopes': std_slopes,\n",
    "            'std_intercepts': std_intercepts,\n",
    "            'linecount': len(lines),\n",
    "            'mean_slopes': np.mean(slopes),\n",
    "            'mean_intercepts': np.mean(intercepts)\n",
    "        }\n",
    "    }\n",
    "\n",
    "    newlines = []\n",
    "    newslopes = []\n",
    "    newyinter = []\n",
    "    for i, ln in enumerate(lines):\n",
    "        if within_bin(slopes[i], minm, maxm) and within_bin(intercepts[i], minb, maxb):\n",
    "            newlines.append(lines[i])\n",
    "            newslopes.append(slopes[i])\n",
    "            newyinter.append(intercepts[i])\n",
    "\n",
    "    cmpdata['post'] = {\n",
    "        'std_slopes': np.std(newslopes),\n",
    "        'std_intercepts': np.std(newyinter),\n",
    "        'linecount': len(newlines),\n",
    "        'mean_slopes': np.mean(newslopes),\n",
    "        'mean_intercepts': np.mean(newyinter)\n",
    "    }\n",
    "\n",
    "    return newlines, newslopes, newyinter, cmpdata\n",
    "\n",
    "\n",
    "###### Throw out junky lines #############################################\n",
    "######\n",
    "def filterlines(lines):\n",
    "    \n",
    "    l_lines=[]\n",
    "    r_lines=[]\n",
    "    l_slopes=[]\n",
    "    r_slopes=[]\n",
    "    l_intercepts=[]\n",
    "    r_intercepts=[]\n",
    "    l_intercept_avg=0\n",
    "    r_intercept_avg=0\n",
    "    \n",
    "    for line in lines:\n",
    "        for x1,y1,x2,y2 in line:\n",
    "            if smallline(line[0]):\n",
    "                continue\n",
    "\n",
    "            slope = (y2-y1)/(x2-x1)\n",
    "\n",
    "            if np.isinf(slope) or np.isnan(slope):\n",
    "                continue\n",
    "\n",
    "            if slope < 0:\n",
    "                l_lines.append(line)\n",
    "                l_slopes.append(slope)\n",
    "                l_intercepts.append(-x1 * slope + y1)\n",
    "            else:\n",
    "                r_lines.append(line)\n",
    "                r_slopes.append(slope)\n",
    "                r_intercepts.append(-x1 * slope + y1)\n",
    "\n",
    "    \n",
    "    ## Do some auto binning in attempt to find the \"strongest\" lines\n",
    "    l_hist_slopes, l_bins_slopes = np.histogram(l_slopes, bins='auto')\n",
    "    r_hist_slopes, r_bins_slopes = np.histogram(r_slopes, bins='auto')\n",
    "\n",
    "    l_hist_intercepts, l_bins_intercepts = np.histogram(l_intercepts, bins='auto')\n",
    "    r_hist_intercepts, r_bins_intercepts = np.histogram(r_intercepts, bins='auto')\n",
    "    \n",
    "    l_max_slope_count = l_hist_slopes.argmax(axis=0)\n",
    "    r_max_slope_count = r_hist_slopes.argmax(axis=0)\n",
    "    \n",
    "    l_max_intercept_count = l_hist_intercepts.argmax(axis=0)\n",
    "    r_max_intercept_count = r_hist_intercepts.argmax(axis=0)\n",
    "    \n",
    "    # append a value to represent \"unlimited\" as last hist bin\n",
    "    np.append(l_bins_slopes, 999999999)\n",
    "    np.append(l_bins_intercepts, 999999999)\n",
    "\n",
    "    # Do Filter\n",
    "    l_lines_f, l_slopes_f, l_intercepts_f, l_cmpdata = filter_by_bin_and_deviation(\n",
    "        l_lines, l_slopes, l_intercepts,\n",
    "        l_bins_slopes[l_max_slope_count], l_bins_slopes[l_max_slope_count + 1],\n",
    "        l_bins_intercepts[l_max_intercept_count], l_bins_intercepts[l_max_intercept_count+1])\n",
    "\n",
    "    r_lines_f, r_slopes_f, r_intercepts_f, r_cmpdata = filter_by_bin_and_deviation(\n",
    "        r_lines, r_slopes, r_intercepts,\n",
    "        r_bins_slopes[r_max_slope_count], r_bins_slopes[r_max_slope_count + 1],\n",
    "        r_bins_intercepts[r_max_intercept_count], r_bins_intercepts[r_max_intercept_count+1])\n",
    "    \n",
    "    \n",
    "    return l_lines_f, r_lines_f, l_cmpdata, r_cmpdata\n",
    "        \n",
    "def grayscale(img):\n",
    "    \"\"\"Applies the Grayscale transform\"\"\"\n",
    "    return cv2.cvtColor(img, cv2.COLOR_RGB2GRAY)\n",
    "    # Or use BGR2GRAY if you read an image with cv2.imread()\n",
    "    # return cv2.cvtColor(img, cv2.COLOR_BGR2GRAY)\n",
    "    \n",
    "def canny(img, low_threshold, high_threshold):\n",
    "    \"\"\"Applies the Canny transform\"\"\"\n",
    "    return cv2.Canny(img, low_threshold, high_threshold)\n",
    "\n",
    "def gaussian_blur(img, kernel_size):\n",
    "    \"\"\"Applies a Gaussian Noise kernel\"\"\"\n",
    "    return cv2.GaussianBlur(img, (kernel_size, kernel_size), 0)\n",
    "\n",
    "def region_of_interest(img, vertices):\n",
    "    \"\"\"\n",
    "    Applies an image mask.\n",
    "    \n",
    "    Only keeps the region of the image defined by the polygon\n",
    "    formed from `vertices`. The rest of the image is set to black.\n",
    "    \"\"\"\n",
    "    #defining a blank mask to start with\n",
    "    mask = np.zeros_like(img)   \n",
    "    \n",
    "    #defining a 3 channel or 1 channel color to fill the mask with depending on the input image\n",
    "    if len(img.shape) > 2:\n",
    "        channel_count = img.shape[2]  # i.e. 3 or 4 depending on your image\n",
    "        ignore_mask_color = (255,) * channel_count\n",
    "    else:\n",
    "        ignore_mask_color = 255\n",
    "        \n",
    "    #filling pixels inside the polygon defined by \"vertices\" with the fill color    \n",
    "    cv2.fillPoly(mask, vertices, ignore_mask_color)\n",
    "    \n",
    "    #returning the image only where mask pixels are nonzero\n",
    "    masked_image = cv2.bitwise_and(img, mask)\n",
    "    return masked_image\n",
    "\n",
    "def draw_lines(img, lines, color=[255, 0, 0], thickness=5):\n",
    "    \"\"\"\n",
    "    This function draws `lines` with `color` and `thickness`.    \n",
    "    Lines are drawn on the image inplace (mutates the image).\n",
    "    If you want to make the lines semi-transparent, think about combining\n",
    "    this function with the weighted_img() function below\n",
    "    \"\"\"\n",
    "    \n",
    "    llines, rlines, lcmpdata, rcmpdata = filterlines(lines)\n",
    "    \n",
    "    lslope = lcmpdata['post']['mean_slopes']\n",
    "    rslope = rcmpdata['post']['mean_slopes']\n",
    "    lyinter = lcmpdata['post']['mean_intercepts']\n",
    "    ryinter = rcmpdata['post']['mean_intercepts']\n",
    "        \n",
    "    \n",
    "    def x_for_y(y, yint, slope):\n",
    "        try:\n",
    "            xfactor = 1 / slope\n",
    "            return int((y - yint) * xfactor)\n",
    "        except Exception:\n",
    "            return -100\n",
    "    \n",
    "    imgh = len(img)\n",
    "    imgc = int(imgh / 2 + 70)\n",
    "    \n",
    "    \n",
    "    def getnewval(old, new, weight=1, thres=0.07):\n",
    "        if (np.isnan(new)):\n",
    "            return old\n",
    "        if abs((old+0.00001 - new) / old) < thres:\n",
    "            return (old*weight + new) / (weight+1)\n",
    "        else:\n",
    "            return old\n",
    "        \n",
    "    def getnewline(old, new, weight=2,thres=0.10):\n",
    "        points=[]\n",
    "        for i in range(0,4):\n",
    "            points.append(int(getnewval(old[i], new[i], weight, thres)))\n",
    "        return points\n",
    "        \n",
    "        \n",
    "    lline = [x_for_y(imgc, lyinter, lslope), imgc, x_for_y(imgh, lyinter, lslope), imgh]\n",
    "    rline = [x_for_y(imgc, ryinter, rslope), imgc, x_for_y(imgh, ryinter, rslope), imgh]\n",
    "    \n",
    "    if draw_lines.lslope == -99999:\n",
    "        draw_lines.lslope = lslope\n",
    "        draw_lines.rslope = rslope\n",
    "        draw_lines.lyinter = lyinter\n",
    "        draw_lines.ryinter = ryinter\n",
    "        draw_lines.avglline = np.copy(lline)\n",
    "        draw_lines.avgrline = np.copy(rline)\n",
    "    else:\n",
    "#         draw_lines.lslope = getnewval(draw_lines.lslope, lslope)\n",
    "#         draw_lines.rslope = getnewval(draw_lines.rslope, rslope)\n",
    "#         draw_lines.lyinter = getnewval(draw_lines.lyinter, lyinter)\n",
    "#         draw_lines.ryinter = getnewval(draw_lines.ryinter, ryinter)\n",
    "        draw_lines.avglline = getnewline(draw_lines.avglline, lline)\n",
    "        draw_lines.avgrline = getnewline(draw_lines.avgrline, rline)\n",
    "    \n",
    "\n",
    "    \n",
    "    cv2.line(img, (draw_lines.avglline[0], draw_lines.avglline[1]), (draw_lines.avglline[2], draw_lines.avglline[3]), color, thickness)\n",
    "    cv2.line(img, (draw_lines.avgrline[0], draw_lines.avgrline[1]), (draw_lines.avgrline[2], draw_lines.avgrline[3]), color, thickness)\n",
    "\n",
    "draw_lines.lslope=-99999\n",
    "\n",
    "def hough_lines(img, rho, theta, threshold, min_line_len, max_line_gap):\n",
    "    \"\"\"\n",
    "    `img` should be the output of a Canny transform.\n",
    "        \n",
    "    Returns an image with hough lines drawn.\n",
    "    \"\"\"\n",
    "    lines = cv2.HoughLinesP(img, rho, theta, threshold, np.array([]), minLineLength=min_line_len, maxLineGap=max_line_gap)\n",
    "    return lines\n",
    "\n",
    "# Python 3 has support for cool math symbols.\n",
    "\n",
    "def weighted_img(img, initial_img, α=0.8, β=1., λ=0.):\n",
    "    \"\"\"\n",
    "    `img` is the output of the hough_lines(), An image with lines drawn on it.\n",
    "    Should be a blank image (all black) with lines drawn on it.\n",
    "    \n",
    "    `initial_img` should be the image before any processing.\n",
    "    \n",
    "    The result image is computed as follows:\n",
    "    \n",
    "    initial_img * α + img * β + λ\n",
    "    NOTE: initial_img and img must be the same shape!\n",
    "    \"\"\"\n",
    "    return cv2.addWeighted(initial_img, α, img, β, λ)"
   ]
  },
  {
   "cell_type": "markdown",
   "metadata": {},
   "source": [
    "## Test on Images\n",
    "\n",
    "Now you should build your pipeline to work on the images in the directory \"test_images\"  \n",
    "**You should make sure your pipeline works well on these images before you try the videos.**"
   ]
  },
  {
   "cell_type": "code",
   "execution_count": null,
   "metadata": {
    "collapsed": false
   },
   "outputs": [],
   "source": [
    "import os\n",
    "os.listdir(\"test_images/\")"
   ]
  },
  {
   "cell_type": "markdown",
   "metadata": {},
   "source": [
    "run your solution on all test_images and make copies into the test_images directory)."
   ]
  },
  {
   "cell_type": "code",
   "execution_count": null,
   "metadata": {
    "collapsed": false
   },
   "outputs": [],
   "source": [
    "# TODO: Build your pipeline that will draw lane lines on the test_images\n",
    "# then save them to the test_images directory.\n",
    "    \n",
    "def pipeline(startimg):\n",
    "    # Define our parameters for Canny\n",
    "    low_threshold = 50\n",
    "    high_threshold = 150\n",
    "\n",
    "    # Define the Hough transform parameters\n",
    "    # Make a blank the same size as our image to draw on\n",
    "    rho = 2 # distance resolution in pixels of the Hough grid\n",
    "    theta = (np.pi*1)/180 # angular resolution in radians of the Hough grid\n",
    "    threshold = 20    # minimum number of votes (intersections in Hough grid cell)\n",
    "    min_line_len = 40 #minimum number of pixels making up a line\n",
    "    max_line_gap = 20   # maximum gap in pixels between connectable line segments\n",
    "\n",
    "    #define offset from mask center (for including turns in non-masked area)\n",
    "    apex_offset = 50\n",
    "    \n",
    "    image = np.copy(startimg)\n",
    "#     drawImgFromArray(original, 0)\n",
    "    \n",
    "    # convert, canny and blur\n",
    "    image = grayscale(image)\n",
    "    image = canny(image, low_threshold, high_threshold)\n",
    "    image = gaussian_blur(image, 5)    \n",
    "#     drawImgFromArray(image, 1)\n",
    "    \n",
    "    # mask \n",
    "    imshape = image.shape\n",
    "    vertices = np.array([[(0+50,imshape[0]),(imshape[1]/2-apex_offset, 340), (imshape[1]/2+apex_offset, 300), (imshape[1]-50,imshape[0])]], dtype=np.int32)\n",
    "    image = region_of_interest(image, vertices)\n",
    "#     drawImgFromArray(image, 1)\n",
    "\n",
    "    #hough\n",
    "    line_image = np.copy(image)*0 # creating a blank to draw lines on\n",
    "    hufflines = hough_lines(image, rho, theta, threshold, min_line_len, max_line_gap)\n",
    "#     drawImgFromArray(image, 1)\n",
    "    \n",
    "    line_img = np.zeros((image.shape[0], image.shape[1], 3), dtype=np.uint8)\n",
    "    draw_lines(line_img, hufflines)\n",
    "    \n",
    "    # weighted image\n",
    "    image = weighted_img(line_img, startimg)\n",
    "#     drawImgFromArray(image, 1)\n",
    "\n",
    "    return image\n",
    "\n",
    "\n",
    "# for fn in os.listdir(\"test_images/\"):\n",
    "#     #read image\n",
    "#     original = (mpimg.imread('test_images/'+fn)*255).astype('uint8')\n",
    "#     image = pipeline(original)\n",
    "#     drawImgFromArray(image, 1)\n",
    "#     mpimg.imsave('test_images/copy_'+fn, image)"
   ]
  },
  {
   "cell_type": "markdown",
   "metadata": {},
   "source": [
    "## Test on Videos\n",
    "\n",
    "You know what's cooler than drawing lanes over images? Drawing lanes over video!\n",
    "\n",
    "We can test our solution on two provided videos:\n",
    "\n",
    "`solidWhiteRight.mp4`\n",
    "\n",
    "`solidYellowLeft.mp4`"
   ]
  },
  {
   "cell_type": "code",
   "execution_count": null,
   "metadata": {
    "collapsed": false
   },
   "outputs": [],
   "source": [
    "# Import everything needed to edit/save/watch video clips\n",
    "from moviepy.editor import VideoFileClip\n",
    "from IPython.display import HTML"
   ]
  },
  {
   "cell_type": "code",
   "execution_count": null,
   "metadata": {
    "collapsed": true
   },
   "outputs": [],
   "source": [
    "def process_image(image):\n",
    "    # NOTE: The output you return should be a color image (3 channel) for processing video below\n",
    "    # TODO: put your pipeline here,\n",
    "    # you should return the final output (image with lines are drawn on lanes)\n",
    "    result = pipeline(image)\n",
    "    return result"
   ]
  },
  {
   "cell_type": "markdown",
   "metadata": {},
   "source": [
    "Let's try the one with the solid white lane on the right first ..."
   ]
  },
  {
   "cell_type": "code",
   "execution_count": null,
   "metadata": {
    "collapsed": false
   },
   "outputs": [],
   "source": [
    "white_output = 'white.mp4'\n",
    "clip1 = VideoFileClip(\"solidWhiteRight.mp4\")\n",
    "white_clip = clip1.fl_image(process_image) #NOTE: this function expects color images!!\n",
    "%time white_clip.write_videofile(white_output, audio=False)"
   ]
  },
  {
   "cell_type": "markdown",
   "metadata": {},
   "source": [
    "Play the video inline, or if you prefer find the video in your filesystem (should be in the same directory) and play it in your video player of choice."
   ]
  },
  {
   "cell_type": "code",
   "execution_count": null,
   "metadata": {
    "collapsed": false
   },
   "outputs": [],
   "source": [
    "HTML(\"\"\"\n",
    "<video width=\"960\" height=\"540\" controls>\n",
    "  <source src=\"{0}\">\n",
    "</video>\n",
    "\"\"\".format(white_output))"
   ]
  },
  {
   "cell_type": "markdown",
   "metadata": {},
   "source": [
    "**At this point, if you were successful you probably have the Hough line segments drawn onto the road, but what about identifying the full extent of the lane and marking it clearly as in the example video (P1_example.mp4)?  Think about defining a line to run the full length of the visible lane based on the line segments you identified with the Hough Transform.  Modify your draw_lines function accordingly and try re-running your pipeline.**"
   ]
  },
  {
   "cell_type": "markdown",
   "metadata": {},
   "source": [
    "Now for the one with the solid yellow lane on the left. This one's more tricky!"
   ]
  },
  {
   "cell_type": "code",
   "execution_count": null,
   "metadata": {
    "collapsed": false
   },
   "outputs": [],
   "source": [
    "draw_lines.lslope=-99999\n",
    "yellow_output = 'yellow.mp4'\n",
    "clip2 = VideoFileClip('solidYellowLeft.mp4')\n",
    "yellow_clip = clip2.fl_image(process_image)\n",
    "%time yellow_clip.write_videofile(yellow_output, audio=False)"
   ]
  },
  {
   "cell_type": "code",
   "execution_count": null,
   "metadata": {
    "collapsed": false,
    "scrolled": true
   },
   "outputs": [],
   "source": [
    "HTML(\"\"\"\n",
    "<video width=\"960\" height=\"540\" controls>\n",
    "  <source src=\"{0}\">\n",
    "</video>\n",
    "\"\"\".format(yellow_output))"
   ]
  },
  {
   "cell_type": "markdown",
   "metadata": {},
   "source": [
    "## Reflections\n",
    "\n",
    "Congratulations on finding the lane lines!  As the final step in this project, we would like you to share your thoughts on your lane finding pipeline... specifically, how could you imagine making your algorithm better / more robust?  Where will your current algorithm be likely to fail?\n",
    "\n",
    "Please add your thoughts below,  and if you're up for making your pipeline more robust, be sure to scroll down and check out the optional challenge video below!\n",
    "\n",
    "\n",
    "\n",
    "Potential Improvements...\n",
    "1. process color channels independently to avoid any loss of useful data during grayscale conversion\n",
    "2. use curve fitting for line drawing\n",
    "3. track line endpoints independently to apply modified filtering for forground/background points (since foreground experience much quicker changes)\n",
    "4. detect all lane lines and only use the ones closest to the centerline.\n"
   ]
  },
  {
   "cell_type": "markdown",
   "metadata": {},
   "source": [
    "## Submission\n",
    "\n",
    "If you're satisfied with your video outputs it's time to submit!  Submit this ipython notebook for review.\n"
   ]
  },
  {
   "cell_type": "markdown",
   "metadata": {
    "collapsed": true
   },
   "source": [
    "## Optional Challenge\n",
    "\n",
    "Try your lane finding pipeline on the video below.  Does it still work?  Can you figure out a way to make it more robust?  If you're up for the challenge, modify your pipeline so it works with this video and submit it along with the rest of your project!"
   ]
  },
  {
   "cell_type": "code",
   "execution_count": null,
   "metadata": {
    "collapsed": false
   },
   "outputs": [],
   "source": [
    "draw_lines.lslope=-99999\n",
    "challenge_output = 'extra.mp4'\n",
    "clip2 = VideoFileClip('challenge.mp4')\n",
    "challenge_clip = clip2.fl_image(process_image)\n",
    "%time challenge_clip.write_videofile(challenge_output, audio=False)"
   ]
  },
  {
   "cell_type": "code",
   "execution_count": null,
   "metadata": {
    "collapsed": false
   },
   "outputs": [],
   "source": [
    "HTML(\"\"\"\n",
    "<video width=\"960\" height=\"540\" controls>\n",
    "  <source src=\"{0}\">\n",
    "</video>\n",
    "\"\"\".format(challenge_output))"
   ]
  },
  {
   "cell_type": "code",
   "execution_count": null,
   "metadata": {
    "collapsed": true
   },
   "outputs": [],
   "source": []
  },
  {
   "cell_type": "code",
   "execution_count": null,
   "metadata": {
    "collapsed": true
   },
   "outputs": [],
   "source": []
  }
 ],
 "metadata": {
  "anaconda-cloud": {},
  "kernelspec": {
   "display_name": "Python [conda env:py35]",
   "language": "python",
   "name": "conda-env-py35-py"
  },
  "language_info": {
   "codemirror_mode": {
    "name": "ipython",
    "version": 3
   },
   "file_extension": ".py",
   "mimetype": "text/x-python",
   "name": "python",
   "nbconvert_exporter": "python",
   "pygments_lexer": "ipython3",
   "version": "3.5.2"
  }
 },
 "nbformat": 4,
 "nbformat_minor": 0
}
